{
 "cells": [
  {
   "cell_type": "markdown",
   "metadata": {},
   "source": [
    "# Appendix 10.4.5: Using Haiku as a sub-agent\n",
    "\n",
    "In this recipe, we'll demonstrate how to analyze Apple's 2023 financial earnings reports using Claude 3.5 Haiku sub-agent models to extract relevant information from earnings release PDFs. We'll then use Claude 3.5 Sonnet v2 to generate a response to our question and create a graph using matplotlib to accompany its response."
   ]
  },
  {
   "cell_type": "markdown",
   "metadata": {},
   "source": [
    "## Step 1: Set up the environment\n",
    "First, let's install the required libraries and set up the Anthropic API client."
   ]
  },
  {
   "cell_type": "code",
   "execution_count": null,
   "metadata": {
    "tags": []
   },
   "outputs": [],
   "source": [
    "pip install -qUr requirements.txt"
   ]
  },
  {
   "cell_type": "code",
   "execution_count": 2,
   "metadata": {
    "tags": []
   },
   "outputs": [
    {
     "name": "stderr",
     "output_type": "stream",
     "text": [
      "Matplotlib is building the font cache; this may take a moment.\n"
     ]
    },
    {
     "name": "stdout",
     "output_type": "stream",
     "text": [
      "Using modelId: anthropic.claude-3-5-sonnet-20241022-v2:0\n",
      "Using region:  us-west-2\n"
     ]
    }
   ],
   "source": [
    "# Import the required libraries\n",
    "import boto3\n",
    "import fitz\n",
    "from PIL import Image\n",
    "import io\n",
    "from concurrent.futures import ThreadPoolExecutor\n",
    "import requests\n",
    "import os\n",
    "import seaborn as sns\n",
    "\n",
    "session = boto3.Session()\n",
    "region = session.region_name\n",
    "\n",
    "modelId = 'anthropic.claude-3-5-sonnet-20241022-v2:0'\n",
    "\n",
    "print(f'Using modelId: {modelId}')\n",
    "print('Using region: ', region)\n",
    "\n",
    "bedrock_client = boto3.client(service_name = 'bedrock-runtime', region_name = region,)"
   ]
  },
  {
   "cell_type": "code",
   "execution_count": 5,
   "metadata": {
    "tags": []
   },
   "outputs": [],
   "source": [
    "# List of Apple's earnings release PDF URLs\n",
    "pdf_urls = [\n",
    "    \"https://www.apple.com/newsroom/pdfs/fy2023-q4/FY23_Q4_Consolidated_Financial_Statements.pdf\",\n",
    "    \"https://www.apple.com/newsroom/pdfs/fy2023-q3/FY23_Q3_Consolidated_Financial_Statements.pdf\",\n",
    "    \"https://www.apple.com/newsroom/pdfs/FY23_Q2_Consolidated_Financial_Statements.pdf\",\n",
    "    \"https://www.apple.com/newsroom/pdfs/FY23_Q1_Consolidated_Financial_Statements.pdf\"\n",
    "]\n",
    "\n",
    "# User's question\n",
    "QUESTION = \"How did Apple's net sales change quarter to quarter in the 2023 financial year and what were the key contributors to the changes?\""
   ]
  },
  {
   "cell_type": "code",
   "execution_count": 6,
   "metadata": {},
   "outputs": [],
   "source": [
    "def call_claude(prompt, image_data=None):\n",
    "    converse_api_params = {\n",
    "        \"modelId\": \"anthropic.claude-3-5-sonnet-20241022-v2:0\",\n",
    "        \"messages\": [{\n",
    "            \"role\": \"user\",\n",
    "            \"content\": []\n",
    "        }],\n",
    "        \"inferenceConfig\": {\n",
    "            \"maxTokens\": 4096\n",
    "        },\n",
    "    }\n",
    "\n",
    "    if image_data:\n",
    "        converse_api_params[\"messages\"][0][\"content\"].append({\n",
    "            \"image\": {\n",
    "                \"format\": \"pdf\",\n",
    "                \"source\": {\"bytes\": image_data}\n",
    "            }\n",
    "        })\n",
    "\n",
    "    converse_api_params[\"messages\"][0][\"content\"].append({\"text\": prompt})\n",
    "\n",
    "    response = bedrock_client.converse(**converse_api_params)\n",
    "    return response['output']['message']['content'][0]['text']\n",
    "\n",
    "def call_primary_claude(prompt, sub_agent_outputs):\n",
    "    converse_api_params = {\n",
    "        \"modelId\": modelId,\n",
    "        \"messages\": [{\n",
    "            \"role\": \"user\",\n",
    "            \"content\": [{\"text\": prompt + \"\\n\\n\" + sub_agent_outputs}]\n",
    "        }],\n",
    "        \"inferenceConfig\": {\n",
    "            \"maxTokens\": 4096\n",
    "        },\n",
    "    }\n",
    "\n",
    "    response = bedrock_client.converse(**converse_api_params)\n",
    "    return response['output']['message']['content'][0]['text']"
   ]
  },
  {
   "cell_type": "code",
   "execution_count": 7,
   "metadata": {
    "tags": []
   },
   "outputs": [],
   "source": [
    "# Function to download a PDF file from a URL and save it to a specified folder\n",
    "def download_pdf(url, folder):\n",
    "    response = requests.get(url)\n",
    "    if response.status_code == 200:\n",
    "        file_name = os.path.join(folder, url.split(\"/\")[-1])\n",
    "        with open(file_name, \"wb\") as file:\n",
    "            file.write(response.content)\n",
    "        return file_name\n",
    "    else:\n",
    "        print(f\"Failed to download PDF from {url}\")\n",
    "        return None\n",
    "    \n",
    "# Define the function to convert a PDF to a list of base64-encoded PNG images\n",
    "def pdf_to_png(pdf_path, quality=75, max_size=(1024, 1024)):\n",
    "    # Open the PDF file\n",
    "    doc = fitz.open(pdf_path)\n",
    "    pdf_to_png_images = []\n",
    "\n",
    "    # Iterate through each page of the PDF\n",
    "    for page_num in range(doc.page_count):\n",
    "        # Load the page\n",
    "        page = doc.load_page(page_num)\n",
    "\n",
    "        # Render the page as a PNG image\n",
    "        pix = page.get_pixmap(matrix=fitz.Matrix(300/72, 300/72))\n",
    "\n",
    "        # Convert the pixmap to a PIL Image\n",
    "        image = Image.frombytes(\"RGB\", [pix.width, pix.height], pix.samples)\n",
    "\n",
    "        # Resize the image if it exceeds the maximum size\n",
    "        if image.size[0] > max_size[0] or image.size[1] > max_size[1]:\n",
    "            image.thumbnail(max_size, Image.Resampling.LANCZOS)\n",
    "\n",
    "        # Convert the PIL image to bytes\n",
    "        image_data = io.BytesIO()\n",
    "        image.save(image_data, format='PNG', optimize=True, quality=quality)\n",
    "        image_data.seek(0)\n",
    "        pdf_to_png_image = image_data.getvalue()\n",
    "\n",
    "        # Append the PNG image bytes to the list\n",
    "        pdf_to_png_images.append(pdf_to_png_image)\n",
    "\n",
    "    # Close the PDF document\n",
    "    doc.close()\n",
    "\n",
    "    return pdf_to_png_images\n",
    "\n",
    "# Folder to save the downloaded PDFs\n",
    "folder = \"./images/using_sub_agents\"\n",
    "\n",
    "# Download the PDFs concurrently\n",
    "with ThreadPoolExecutor() as executor:\n",
    "    pdf_paths = list(executor.map(download_pdf, pdf_urls, [folder] * len(pdf_urls)))\n",
    "\n",
    "# Remove any None values (failed downloads) from pdf_paths\n",
    "pdf_paths = [path for path in pdf_paths if path is not None]"
   ]
  },
  {
   "cell_type": "markdown",
   "metadata": {},
   "source": [
    "We use ThreadPoolExecutor to download the PDFs concurrently and store the file paths in pdf_paths."
   ]
  },
  {
   "cell_type": "markdown",
   "metadata": {},
   "source": [
    "## Step 4: Generate a specific prompt for Haiku using Sonnet\n",
    "Let's use Claude 3.5 Sonnet v2 as an orchestrator and have it write a specific prompt for each Haiku sub-agent based on the user provided question."
   ]
  },
  {
   "cell_type": "code",
   "execution_count": 8,
   "metadata": {
    "tags": []
   },
   "outputs": [
    {
     "name": "stdout",
     "output_type": "stream",
     "text": [
      "Please analyze this earnings report and extract the following information:\n",
      "\n",
      "1. The total net sales figure for this quarter\n",
      "2. The year-over-year change in net sales (both percentage and absolute value)\n",
      "3. Net sales figures broken down by:\n",
      "   - Product categories (iPhone, Mac, iPad, Wearables/Home/Accessories, Services)\n",
      "   - Geographic segments\n",
      "\n",
      "4. Key factors mentioned that contributed to sales performance, specifically:\n",
      "   - Product launches or updates\n",
      "   - Market conditions\n",
      "   - Supply chain impacts\n",
      "   - Pricing changes\n",
      "   - Currency effects\n",
      "   - Any other significant factors cited by management\n",
      "\n",
      "5. Any forward-looking statements or guidance about sales trends\n",
      "\n",
      "Present the data in a structured format and include direct quotes from the report where relevant to explaining sales changes. Ensure all monetary values are in billions of USD and specify if any figures are rounded.\n"
     ]
    }
   ],
   "source": [
    "def generate_haiku_prompt(question):\n",
    "    prompt = f\"\"\"Based on the following question, please generate a specific prompt for an LLM sub-agent to extract relevant information from an earning's report PDF. Each sub-agent only has access to a single quarter's earnings report. Output only the prompt and nothing else.\\n\\nQuestion: {question}\"\"\"\n",
    "    messages = [\n",
    "        {\n",
    "            \"role\": 'user',\n",
    "            \"content\": [\n",
    "                {\"text\": prompt }\n",
    "            ]\n",
    "        }\n",
    "    ]\n",
    "\n",
    "    converse_api_params = {\n",
    "        \"modelId\": modelId,\n",
    "        \"messages\": messages,\n",
    "    }\n",
    "\n",
    "    response = bedrock_client.converse(**converse_api_params)\n",
    "\n",
    "    return response['output']['message']['content'][0]['text']\n",
    "\n",
    "haiku_prompt = generate_haiku_prompt(QUESTION)\n",
    "print(haiku_prompt)"
   ]
  },
  {
   "cell_type": "markdown",
   "metadata": {},
   "source": [
    "## Step 5: Extract information from PDFs\n",
    "Now, let's define our question and extract information from the PDFs using sub-agent Haiku models. We format the information from each model into a neatly defined set of XML tags."
   ]
  },
  {
   "cell_type": "code",
   "execution_count": 10,
   "metadata": {
    "tags": []
   },
   "outputs": [
    {
     "name": "stdout",
     "output_type": "stream",
     "text": [
      "<info quarter=\"Q4\">Based on the condensed consolidated statements of operations, Apple's net sales changed as follows from the three months ended September 30, 2022 to the three months ended September 30, 2023:\n",
      "\n",
      "- Total net sales increased from $90,146 million to $89,498 million, a decrease of $648 million.\n",
      "\n",
      "The key contributors to the change in net sales were:\n",
      "\n",
      "- Product sales decreased from $70,958 million to $67,184 million, a decrease of $3,774 million. This was primarily driven by lower iPhone sales.\n",
      "- Services sales increased from $19,188 million to $22,314 million, an increase of $3,126 million. This was due to growth in the Services category.\n",
      "\n",
      "So in summary, the decrease in total net sales was primarily attributable to lower product sales, particularly iPhone, which was partially offset by growth in the higher-margin Services segment.</info>\n",
      "<info quarter=\"Q3\">Based on the \"CONDENSED CONSOLIDATED STATEMENTS OF OPERATIONS (Unaudited)\" for Apple Inc., we can see the following changes in net sales quarter-to-quarter in the 2023 financial year:\n",
      "\n",
      "- Net sales for the three months ended July 1, 2023 were $81,797 million, compared to $82,959 million for the three months ended June 25, 2022. This represents a decrease of $1,162 million or approximately 1.4% quarter-over-quarter.\n",
      "\n",
      "- The key contributors to this decrease were:\n",
      "1) Products net sales decreased from $63,355 million in Q3 2022 to $60,584 million in Q3 2023, a drop of $2,771 million.\n",
      "2) Services net sales increased from $19,604 million in Q3 2022 to $21,213 million in Q3 2023, an increase of $1,609 million.\n",
      "\n",
      "So the overall net sales decrease was driven by lower product sales, which was partially offset by growth in services revenue.</info>\n",
      "<info quarter=\"Q2\">According to the financial statements, Apple's net sales changed as follows in the 2023 financial year:\n",
      "\n",
      "- In the three months ended April 1, 2023, net sales were $94,836 million.\n",
      "- In the six months ended March 26, 2022, net sales were $97,278 million.\n",
      "- This represents a decrease in net sales from the prior six-month period to the latest three-month period.\n",
      "\n",
      "The key contributors to the change in net sales quarter-to-quarter were:\n",
      "\n",
      "- Products sales decreased from $49,290 million in the six months ended March 26, 2022 to $46,795 million in the three months ended April 1, 2023.\n",
      "- Services sales decreased from $19,821 million in the six months ended March 26, 2022 to $20,907 million in the three months ended April 1, 2023.\n",
      "\n",
      "So both product sales and services sales declined quarter-over-quarter, contributing to the overall decrease in Apple's net sales in the latest reporting period.</info>\n",
      "<info quarter=\"Q1\">Based on the financial information provided, Apple's net sales increased from $123,945 million in Q1 2022 to $117,154 million in Q1 2023, a decrease of $6,791 million or around 5.5%. \n",
      "\n",
      "The key contributors to this change were:\n",
      "\n",
      "- The Products category net sales decreased from $104,429 million in Q1 2022 to $96,388 million in Q1 2023, a decrease of $8,041 million or around 7.7%.\n",
      "\n",
      "- The Services category net sales increased from $19,516 million in Q1 2022 to $20,766 million in Q1 2023, an increase of $1,250 million or around 6.4%.\n",
      "\n",
      "So the decrease in net sales was primarily driven by a drop in Product sales, which was partially offset by an increase in Services sales.</info>\n",
      "\n"
     ]
    }
   ],
   "source": [
    "def extract_info(pdf_path, haiku_prompt):\n",
    "    pdf_pngs = pdf_to_png(pdf_path)\n",
    "\n",
    "    messages = [\n",
    "        {\n",
    "            \"role\": \"user\",\n",
    "            \"content\": [\n",
    "                *[{\"image\": {\"format\": 'png', \"source\": {\"bytes\": pdf_png}}} for pdf_png in pdf_pngs],\n",
    "                {\"text\": haiku_prompt}\n",
    "            ]\n",
    "        }\n",
    "    ]\n",
    "\n",
    "    converse_api_params = {\n",
    "        \"modelId\": \"anthropic.claude-3-haiku-20240307-v1:0\",\n",
    "        \"messages\": messages,\n",
    "    }\n",
    "    response = bedrock_client.converse(**converse_api_params)\n",
    "\n",
    "    return response['output']['message']['content'][0]['text'], pdf_path\n",
    "\n",
    "def process_pdf(pdf_path):\n",
    "    return extract_info(pdf_path, QUESTION)\n",
    "\n",
    "# Process the PDFs concurrently with Haiku sub-agent models\n",
    "with ThreadPoolExecutor() as executor:\n",
    "    extracted_info_list = list(executor.map(process_pdf, pdf_paths))\n",
    "\n",
    "extracted_info = \"\"\n",
    "# Display the extracted information from each model call\n",
    "for info in extracted_info_list:\n",
    "    extracted_info += \"<info quarter=\\\"\" + info[1].split(\"/\")[-1].split(\"_\")[1] + \"\\\">\" + info[0] + \"</info>\\n\"\n",
    "print(extracted_info)"
   ]
  },
  {
   "cell_type": "markdown",
   "metadata": {},
   "source": [
    "We extract information from the PDFs concurrently using sub-agent models and combine the extracted information. We then prepare the messages for the powerful model, including the question and the extracted information, and ask it to generate a response and matplotlib code."
   ]
  },
  {
   "cell_type": "markdown",
   "metadata": {},
   "source": [
    "## Step 6: Pass the information to Sonnet to generate a response\n",
    "Now that we have fetched the information from each PDF using the sub-agents, let's call Claude 3.5 Sonnet v2 to actually answer the question and write code to create a graph to accompany the answer."
   ]
  },
  {
   "cell_type": "code",
   "execution_count": 11,
   "metadata": {
    "tags": []
   },
   "outputs": [
    {
     "name": "stdout",
     "output_type": "stream",
     "text": [
      "Generated Response:\n",
      "Based on the provided information, here's how Apple's net sales changed quarter to quarter in FY2023:\n",
      "\n",
      "Q1 2023: $117,154 million (↓5.5% YoY)\n",
      "Q2 2023: $94,836 million \n",
      "Q3 2023: $81,797 million (↓1.4% YoY)\n",
      "Q4 2023: $89,498 million (↓0.7% YoY)\n",
      "\n",
      "Key trends:\n",
      "1. Throughout FY2023, Product sales consistently decreased year-over-year\n",
      "2. Services revenue showed consistent growth throughout the year\n",
      "3. The largest decline was in Q1 2023 (↓5.5%)\n",
      "4. Services revenue helped offset some of the Product revenue decline\n",
      "\n",
      "Here's the Python code to visualize this data:\n",
      "\n",
      "<code>\n",
      "import matplotlib.pyplot as plt\n",
      "import numpy as np\n",
      "\n",
      "# Data\n",
      "quarters = ['Q1 2023', 'Q2 2023', 'Q3 2023', 'Q4 2023']\n",
      "total_sales = [117154, 94836, 81797, 89498]\n",
      "product_sales = [96388, 46795, 60584, 67184]\n",
      "services_sales = [20766, 20907, 21213, 22314]\n",
      "\n",
      "# Create figure and axis\n",
      "fig, ax = plt.subplots(figsize=(10, 6))\n",
      "\n",
      "# Create the stacked bar chart\n",
      "ax.bar(quarters, product_sales, label='Products', color='#2E86C1')\n",
      "ax.bar(quarters, services_sales, bottom=product_sales, label='Services', color='#28B463')\n",
      "\n",
      "# Customize the chart\n",
      "ax.set_ylabel('Net Sales (Millions USD)')\n",
      "ax.set_title('Apple Quarterly Net Sales Breakdown FY2023')\n",
      "ax.legend()\n",
      "\n",
      "# Add total sales values on top of bars\n",
      "for i in range(len(quarters)):\n",
      "    plt.text(i, total_sales[i], f'${total_sales[i]:,}M', \n",
      "             ha='center', va='bottom')\n",
      "\n",
      "# Format y-axis to show billions\n",
      "ax.yaxis.set_major_formatter(plt.FuncFormatter(lambda x, p: f'{int(x/1000)}B'))\n",
      "\n",
      "plt.tight_layout()\n",
      "plt.show()\n",
      "</code>\n",
      "\n",
      "This visualization shows the quarterly breakdown of Apple's net sales, with Products and Services stacked to show their relative contributions to total revenue, and includes the total revenue figures above each bar.\n"
     ]
    }
   ],
   "source": [
    "# Prepare the messages for the powerful model\n",
    "messages = [\n",
    "    {\n",
    "        \"role\": \"user\",\n",
    "        \"content\": [\n",
    "            {\"text\": f\"Based on the following extracted information from Apple's earnings releases, please provide a response to the question: {QUESTION}\\n\\nAlso, please generate Python code using the matplotlib library to accompany your response. Enclose the code within <code> tags.\\n\\nExtracted Information:\\n{extracted_info}\"}\n",
    "        ]\n",
    "    }\n",
    "]\n",
    "\n",
    "# Generate the matplotlib code using the powerful model\n",
    "converse_api_params = {\n",
    "    \"modelId\": \"anthropic.claude-3-5-sonnet-20241022-v2:0\",\n",
    "    \"messages\": messages,\n",
    "    \"inferenceConfig\": {\"maxTokens\": 4096},\n",
    "}\n",
    "response = bedrock_client.converse(**converse_api_params)\n",
    "\n",
    "generated_response = response['output']['message']['content'][0]['text']\n",
    "print(\"Generated Response:\")\n",
    "print(generated_response)"
   ]
  },
  {
   "cell_type": "markdown",
   "metadata": {},
   "source": [
    "## Step 7: Extract response and execute Matplotlib code\n",
    "Finally, let's extract the matplotlib code from the generated response and execute it to visualize the revenue growth trend.\n",
    "\n",
    "We define the ```extract_code_and_response``` function to extract the matplotlib code and non-code response from the generated response. We print the non-code response and execute the matplotlib code if it is found.\n",
    "\n",
    "Note that it is not good practice to use ```exec``` on model-written code outside of a sandbox but for the purposes of this demo we are doing it :)"
   ]
  },
  {
   "cell_type": "code",
   "execution_count": 12,
   "metadata": {
    "tags": []
   },
   "outputs": [
    {
     "name": "stdout",
     "output_type": "stream",
     "text": [
      "Based on the provided information, here's how Apple's net sales changed quarter to quarter in FY2023:\n",
      "\n",
      "Q1 2023: $117,154 million (↓5.5% YoY)\n",
      "Q2 2023: $94,836 million \n",
      "Q3 2023: $81,797 million (↓1.4% YoY)\n",
      "Q4 2023: $89,498 million (↓0.7% YoY)\n",
      "\n",
      "Key trends:\n",
      "1. Throughout FY2023, Product sales consistently decreased year-over-year\n",
      "2. Services revenue showed consistent growth throughout the year\n",
      "3. The largest decline was in Q1 2023 (↓5.5%)\n",
      "4. Services revenue helped offset some of the Product revenue decline\n",
      "\n",
      "Here's the Python code to visualize this data:\n"
     ]
    },
    {
     "data": {
      "image/png": "[encoded data removed]",
      "text/plain": [
       "<Figure size 1000x600 with 1 Axes>"
      ]
     },
     "metadata": {},
     "output_type": "display_data"
    }
   ],
   "source": [
    "# Extract the matplotlib code from the response\n",
    "# Function to extract the code and non-code parts from the response\n",
    "def extract_code_and_response(response):\n",
    "    start_tag = \"<code>\"\n",
    "    end_tag = \"</code>\"\n",
    "    start_index = response.find(start_tag)\n",
    "    end_index = response.find(end_tag)\n",
    "    if start_index != -1 and end_index != -1:\n",
    "        code = response[start_index + len(start_tag):end_index].strip()\n",
    "        non_code_response = response[:start_index].strip()\n",
    "        return code, non_code_response\n",
    "    else:\n",
    "        return None, response.strip()\n",
    "\n",
    "matplotlib_code, non_code_response = extract_code_and_response(generated_response)\n",
    "print(non_code_response)\n",
    "\n",
    "if matplotlib_code:\n",
    "    # Modify the extracted code if it contains plt.style.use('seaborn')\n",
    "    if \"plt.style.use('seaborn')\" in matplotlib_code or 'plt.style.use(\"seaborn\")' in matplotlib_code:\n",
    "        matplotlib_code = matplotlib_code.replace(\"plt.style.use('seaborn')\", \"import seaborn as sns\\nsns.set_theme()\")\n",
    "        matplotlib_code = matplotlib_code.replace('plt.style.use(\"seaborn\")', \"import seaborn as sns\\nsns.set_theme()\")\n",
    "    \n",
    "    # Execute the extracted matplotlib code\n",
    "    exec(matplotlib_code)\n",
    "else:\n",
    "    print(\"No matplotlib code found in the response.\")"
   ]
  },
  {
   "cell_type": "code",
   "execution_count": null,
   "metadata": {},
   "outputs": [],
   "source": []
  }
 ],
 "metadata": {
  "kernelspec": {
   "display_name": "Prompt Engg with Claude 3.x",
   "language": "python",
   "name": "prompt-engineering-with-anthropic-claude-v-3"
  },
  "language_info": {
   "codemirror_mode": {
    "name": "ipython",
    "version": 3
   },
   "file_extension": ".py",
   "mimetype": "text/x-python",
   "name": "python",
   "nbconvert_exporter": "python",
   "pygments_lexer": "ipython3",
   "version": "3.11.9"
  }
 },
 "nbformat": 4,
 "nbformat_minor": 4
}
