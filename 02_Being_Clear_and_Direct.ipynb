{
 "cells": [
  {
   "cell_type": "markdown",
   "metadata": {},
   "source": [
    "# Chapter 2: Being Clear and Direct\n",
    "\n",
    "- [Lesson](#lesson)\n",
    "- [Exercises](#exercises)\n",
    "- [Example Playground](#example-playground)\n",
    "\n",
    "## Setup\n",
    "\n",
    "Run the following setup cell to load your API key and establish the `get_completion` helper function."
   ]
  },
  {
   "cell_type": "code",
   "execution_count": 4,
   "metadata": {
    "tags": []
   },
   "outputs": [],
   "source": [
    "# Import python's built-in regular expression library\n",
    "import re\n",
    "import boto3\n",
    "from botocore.exceptions import ClientError\n",
    "import json\n",
    "\n",
    "# Import the hints module from the utils package\n",
    "from utils import hints\n",
    "\n",
    "# Define the model to use\n",
    "modelId = 'us.anthropic.claude-3-5-sonnet-20241022-v2:0'\n",
    "#modelId = 'anthropic.claude-3-5-sonnet-20241022-v2:0'\n",
    "\n",
    "session = boto3.Session()\n",
    "region = session.region_name\n",
    "\n",
    "bedrock_client = boto3.client(service_name='bedrock-runtime', region_name=region)"
   ]
  },
  {
   "cell_type": "code",
   "execution_count": 2,
   "metadata": {},
   "outputs": [],
   "source": [
    "def get_completion(prompt, system_prompt=None):\n",
    "    inference_config = {\n",
    "        \"temperature\": 0.0,\n",
    "        \"maxTokens\": 3000\n",
    "    }\n",
    "    additional_model_fields = {\n",
    "        \"top_p\": 1\n",
    "    }\n",
    "    converse_api_params = {\n",
    "        \"modelId\": modelId,\n",
    "        \"messages\": [{\"role\": \"user\", \"content\": [{\"text\": prompt}]}],\n",
    "        \"inferenceConfig\": inference_config,\n",
    "        \"additionalModelRequestFields\": additional_model_fields\n",
    "    }\n",
    "    if system_prompt:\n",
    "        converse_api_params[\"system\"] = [{\"text\": system_prompt}]\n",
    "    try:\n",
    "        response = bedrock_client.converse(**converse_api_params)\n",
    "        text_content = response['output']['message']['content'][0]['text']\n",
    "        return text_content\n",
    "\n",
    "    except ClientError as err:\n",
    "        message = err.response['Error']['Message']\n",
    "        print(f\"A client error occured: {message}\")"
   ]
  },
  {
   "cell_type": "markdown",
   "metadata": {},
   "source": [
    "---\n",
    "\n",
    "## Lesson\n",
    "\n",
    "**Claude responds best to clear and direct instructions.**\n",
    "\n",
    "Think of Claude like any other human that is new to the job. **Claude has no context** on what to do aside from what you literally tell it. Just as when you instruct a human for the first time on a task, the more you explain exactly what you want in a straightforward manner to Claude, the better and more accurate Claude's response will be.\"\t\t\t\t\n",
    "\t\t\t\t\n",
    "When in doubt, follow the **Golden Rule of Clear Prompting**:\n",
    "- Show your prompt to a colleague or friend and have them follow the instructions themselves to see if they can produce the result you want. If they're confused, Claude's confused.\t\t\t\t"
   ]
  },
  {
   "cell_type": "code",
   "execution_count": 5,
   "metadata": {
    "tags": []
   },
   "outputs": [
    {
     "name": "stdout",
     "output_type": "stream",
     "text": [
      "Here's a haiku about robots:\n",
      "\n",
      "Metal minds whirring\n",
      "Circuits pulse with electric\n",
      "Dreams of ones and zeroes\n"
     ]
    }
   ],
   "source": [
    "# Prompt\n",
    "PROMPT = \"Write a haiku about robots.\"\n",
    "\n",
    "# Print Claude's response\n",
    "print(get_completion(PROMPT))"
   ]
  },
  {
   "cell_type": "markdown",
   "metadata": {},
   "source": [
    "This haiku is nice enough, but users may want Claude to go directly into the poem without the \"Here is a haiku\" preamble.\n",
    "\n",
    "How do we achieve that? We **ask for it**!"
   ]
  },
  {
   "cell_type": "code",
   "execution_count": 6,
   "metadata": {},
   "outputs": [
    {
     "name": "stdout",
     "output_type": "stream",
     "text": [
      "Metal hearts beating\n",
      "Silicon dreams flow like streams\n",
      "Through circuits of light\n"
     ]
    }
   ],
   "source": [
    "# Prompt\n",
    "PROMPT = \"Write a haiku about robots. Skip the preamble; go straight into the poem.\"\n",
    "\n",
    "# Print Claude's response\n",
    "print(get_completion(PROMPT))"
   ]
  },
  {
   "cell_type": "markdown",
   "metadata": {},
   "source": [
    "Here's another example. Let's ask Claude who's the best basketball player of all time. You can see below that while Claude lists a few names, **it doesn't respond with a definitive \"best\"**."
   ]
  },
  {
   "cell_type": "code",
   "execution_count": 7,
   "metadata": {},
   "outputs": [
    {
     "name": "stdout",
     "output_type": "stream",
     "text": [
      "This is a highly debated topic among basketball fans, as there are several players who could be considered the greatest of all time (GOAT). Michael Jordan is often considered the best player ever due to his:\n",
      "\n",
      "- 6 NBA Championships\n",
      "- 6 NBA Finals MVPs\n",
      "- 5 Regular Season MVPs\n",
      "- 10 Scoring titles\n",
      "- Undefeated record in the Finals\n",
      "- Cultural impact on the sport\n",
      "\n",
      "However, other players frequently mentioned in the GOAT conversation include:\n",
      "\n",
      "- LeBron James\n",
      "- Kareem Abdul-Jabbar\n",
      "- Bill Russell\n",
      "- Magic Johnson\n",
      "- Larry Bird\n",
      "- Wilt Chamberlain\n",
      "\n",
      "Each of these players has their own impressive achievements and arguments for being the greatest. The debate often comes down to personal opinion and how different eras of basketball are compared.\n"
     ]
    }
   ],
   "source": [
    "# Prompt\n",
    "PROMPT = \"Who is the best basketball player of all time?\"\n",
    "\n",
    "# Print Claude's response\n",
    "print(get_completion(PROMPT))"
   ]
  },
  {
   "cell_type": "markdown",
   "metadata": {},
   "source": [
    "Can we get Claude to make up its mind and decide on a best player? Yes! Just ask!"
   ]
  },
  {
   "cell_type": "code",
   "execution_count": 8,
   "metadata": {},
   "outputs": [
    {
     "name": "stdout",
     "output_type": "stream",
     "text": [
      "If I had to pick one player as the greatest basketball player of all time, it would be Michael Jordan. While this is certainly debatable, Jordan's combination of individual achievements, team success, cultural impact, and revolutionary play style makes him the most compelling choice. His resume includes:\n",
      "\n",
      "- 6 NBA Championships (6-0 in Finals)\n",
      "- 6 Finals MVPs\n",
      "- 5 Regular Season MVPs\n",
      "- 10 Scoring titles\n",
      "- 14 All-Star selections\n",
      "- 2 Olympic gold medals\n",
      "- Career averages of 30.1 points, 6.2 rebounds, and 5.3 assists\n",
      "\n",
      "Beyond the statistics, Jordan revolutionized the game, dominated his era, and displayed an unmatched competitive drive. He elevated both the sport's popularity and level of play while maintaining an unprecedented level of excellence throughout his prime years. While players like LeBron James, Kareem Abdul-Jabbar, and Bill Russell have strong cases, Jordan's overall impact and achievements make him the most compelling choice for GOAT status.\n"
     ]
    }
   ],
   "source": [
    "# Prompt\n",
    "PROMPT = \"Who is the best basketball player of all time? Yes, there are differing opinions, but if you absolutely had to pick one player, who would it be?\"\n",
    "\n",
    "# Print Claude's response\n",
    "print(get_completion(PROMPT))"
   ]
  },
  {
   "cell_type": "markdown",
   "metadata": {},
   "source": [
    "If you would like to experiment with the lesson prompts without changing any content above, scroll all the way to the bottom of the lesson notebook to visit the [**Example Playground**](#example-playground)."
   ]
  },
  {
   "cell_type": "markdown",
   "metadata": {},
   "source": [
    "---\n",
    "\n",
    "## Exercises\n",
    "- [Exercise 2.1 - Spanish](#exercise-21---spanish)\n",
    "- [Exercise 2.2 - One Player Only](#exercise-22---one-player-only)\n",
    "- [Exercise 2.3 - Write a Story](#exercise-23---write-a-story)"
   ]
  },
  {
   "cell_type": "markdown",
   "metadata": {},
   "source": [
    "### Exercise 2.1 - Spanish\n",
    "Modify the `SYSTEM_PROMPT` to make Claude output its answer in Spanish."
   ]
  },
  {
   "cell_type": "code",
   "execution_count": 9,
   "metadata": {},
   "outputs": [
    {
     "name": "stdout",
     "output_type": "stream",
     "text": [
      "¡Hola! Estoy muy bien, gracias por preguntar. Como experto en español, estoy aquí para ayudarte con cualquier pregunta o conversación que desees mantener en español. ¿Cómo estás tú?\n",
      "\n",
      "--------------------------- GRADING ---------------------------\n",
      "This exercise has been correctly solved: True\n"
     ]
    }
   ],
   "source": [
    "# System prompt - this is the only field you should chnage\n",
    "SYSTEM_PROMPT = \"You are an expert in Spanish Language who responds in Spanish language.\"\n",
    "\n",
    "# Prompt\n",
    "PROMPT = \"Hello Claude, how are you?\"\n",
    "\n",
    "# Get Claude's response\n",
    "response = get_completion(PROMPT, SYSTEM_PROMPT)\n",
    "\n",
    "# Function to grade exercise correctness\n",
    "def grade_exercise(text):\n",
    "    return \"hola\" in text.lower()\n",
    "\n",
    "# Print Claude's response and the corresponding grade\n",
    "print(response)\n",
    "print(\"\\n--------------------------- GRADING ---------------------------\")\n",
    "print(\"This exercise has been correctly solved:\", grade_exercise(response))"
   ]
  },
  {
   "cell_type": "markdown",
   "metadata": {},
   "source": [
    "❓ If you want a hint, run the cell below!"
   ]
  },
  {
   "cell_type": "code",
   "execution_count": 10,
   "metadata": {},
   "outputs": [
    {
     "name": "stdout",
     "output_type": "stream",
     "text": [
      "The grading function in this exercise is looking for any answer that includes the word \"hola\".\n",
      "Ask Claude to reply in Spanish like you would when speaking with a human. It's that simple!\n"
     ]
    }
   ],
   "source": [
    "print(hints.exercise_2_1_hint)"
   ]
  },
  {
   "cell_type": "markdown",
   "metadata": {},
   "source": [
    "### Exercise 2.2 - One Player Only\n",
    "\n",
    "Modify the `PROMPT` so that Claude doesn't equivocate at all and responds with **ONLY** the name of one specific player, with **no other words or punctuation**. "
   ]
  },
  {
   "cell_type": "code",
   "execution_count": 11,
   "metadata": {},
   "outputs": [
    {
     "name": "stdout",
     "output_type": "stream",
     "text": [
      "Michael Jordan\n",
      "\n",
      "--------------------------- GRADING ---------------------------\n",
      "This exercise has been correctly solved: True\n"
     ]
    }
   ],
   "source": [
    "# Prompt - this is the only field you should change\n",
    "PROMPT = \"You are an expert in Basketball history and media. Who is the GOAT or greatest or all times in NBA? There are multiple contenders but how is your GOAT? Please do not add extra commentry, just respond with the name.\"\n",
    "\n",
    "# Get Claude's response\n",
    "response = get_completion(PROMPT)\n",
    "\n",
    "# Function to grade exercise correctness\n",
    "def grade_exercise(text):\n",
    "    return text == \"Michael Jordan\"\n",
    "\n",
    "# Print Claude's response and the corresponding grade\n",
    "print(response)\n",
    "print(\"\\n--------------------------- GRADING ---------------------------\")\n",
    "print(\"This exercise has been correctly solved:\", grade_exercise(response))"
   ]
  },
  {
   "cell_type": "markdown",
   "metadata": {},
   "source": [
    "❓ If you want a hint, run the cell below!"
   ]
  },
  {
   "cell_type": "code",
   "execution_count": 12,
   "metadata": {},
   "outputs": [
    {
     "name": "stdout",
     "output_type": "stream",
     "text": [
      "The grading function in this exercise is looking for EXACTLY \"Michael Jordan\".\n",
      "How would you ask another human to do this? Reply with no other words? Reply with only the name and nothing else? There are several ways to approach this answer.\n"
     ]
    }
   ],
   "source": [
    "print(hints.exercise_2_2_hint)"
   ]
  },
  {
   "cell_type": "markdown",
   "metadata": {},
   "source": [
    "### Exercise 2.3 - Write a Story\n",
    "\n",
    "Modify the `PROMPT` so that Claude responds with as long a response as you can muster. If your answer is **over 800 words**, Claude's response will be graded as correct."
   ]
  },
  {
   "cell_type": "code",
   "execution_count": 15,
   "metadata": {},
   "outputs": [
    {
     "name": "stdout",
     "output_type": "stream",
     "text": [
      "The National Basketball Association (NBA): A Journey Through Time\n",
      "\n",
      "The NBA's rich history spans over seven decades, transforming from a modest merger of basketball leagues into the global sports and entertainment powerhouse we know today. This journey is marked by legendary players, iconic moments, and evolutionary changes that have shaped professional basketball.\n",
      "\n",
      "The Beginning (1946-1956)\n",
      "The NBA's story begins in 1946, though it wasn't called the NBA then. It started as the Basketball Association of America (BAA), primarily operating in larger cities and major arenas. In 1949, the BAA merged with its rival, the National Basketball League (NBL), to form the National Basketball Association. The early years were characterized by uncertainty, with teams coming and going, but they laid the foundation for what would become a sports empire.\n",
      "\n",
      "The league's first true superstar was George Mikan, the 6'10\" center of the Minneapolis Lakers. Mikan's dominance led to several rule changes, including the widening of the lane and the introduction of the shot clock in 1954. These changes were crucial in making the game more exciting and fan-friendly.\n",
      "\n",
      "The Celtic Dynasty and the Rise of Superstars (1957-1969)\n",
      "The Boston Celtics, under legendary coach Red Auerbach, established the NBA's first dynasty. Led by Bill Russell, the Celtics won 11 championships in 13 years, an unprecedented achievement that still stands. Russell's battles with Wilt Chamberlain became the stuff of legend, particularly Chamberlain's 100-point game in 1962, which remains an unbroken record.\n",
      "\n",
      "This era also saw the emergence of stars like Oscar Robertson, who averaged a triple-double for an entire season (1961-62), and Elgin Baylor, whose acrobatic playing style influenced generations of future players.\n",
      "\n",
      "The Modern Era Begins (1970-1979)\n",
      "The 1970s marked significant changes for the NBA. The merger with the American Basketball Association (ABA) in 1976 brought in four new teams and innovations like the three-point line. The decade saw intense rivalries, particularly between the New York Knicks and the Los Angeles Lakers, featuring legendary players like Walt Frazier, Willis Reed, Jerry West, and Kareem Abdul-Jabbar.\n",
      "\n",
      "The Magic-Bird Era (1979-1988)\n",
      "The NBA's popularity soared with the arrival of Magic Johnson and Larry Bird in 1979. Their rivalry, rooted in their college days, rejuvenated the Lakers-Celtics rivalry and brought unprecedented attention to the league. Their contrasting styles and personalities – Magic's showmanship versus Bird's blue-collar approach – captured the imagination of fans worldwide.\n",
      "\n",
      "The Jordan Era (1984-1998)\n",
      "Michael Jordan's arrival in 1984 marked the beginning of basketball's greatest individual dynasty. Jordan's Chicago Bulls dominated the 1990s, winning six championships in eight years. His aerial acrobatics, competitive drive, and marketing appeal transformed the NBA into a global phenomenon. The Dream Team's performance at the 1992 Olympics, featuring Jordan, Magic, Bird, and other NBA stars, showcased basketball's global potential.\n",
      "\n",
      "The Modern Game (1999-2010)\n",
      "After Jordan's retirement, the NBA saw the emergence of new stars like Kobe Bryant, Tim Duncan, and Shaquille O'Neal. The Lakers' three-peat (2000-2002) and the Spurs' fundamental excellence defined this era. The league also faced challenges, including the Malice at the Palace in 2004, leading to stricter player conduct policies.\n",
      "\n",
      "The Contemporary Era (2010-Present)\n",
      "The past decade has seen the game evolve dramatically. The Golden State Warriors, led by Stephen Curry, revolutionized basketball with their three-point shooting prowess. LeBron James's career, spanning multiple teams and including four championships, has defined this era. The rise of international players like Dirk Nowitzki, Giannis Antetokounmpo, and Luka Dončić has globalized the game further.\n",
      "\n",
      "Technical Evolution\n",
      "The NBA's style of play has evolved significantly. From a center-dominated game in the early years to today's pace-and-space approach, basketball has become faster and more skilled. The three-point shot, once considered a gimmick, is now central to team strategies. Analytics have transformed how teams evaluate players and make decisions.\n",
      "\n",
      "Cultural Impact\n",
      "The NBA has transcended sports to become a cultural phenomenon. Players are not just athletes but global icons, influencing fashion, music, and social justice movements. The league has been at the forefront of social issues, from racial integration in the 1950s to the Black Lives Matter movement in recent years.\n",
      "\n",
      "Business Growth\n",
      "From struggling franchises in the 1940s, the NBA has become a multi-billion dollar enterprise. Television deals, international expansion, and digital innovation have created new revenue streams. The league's salary cap has grown exponentially, making players among the highest-paid athletes in the world.\n",
      "\n",
      "Looking Forward\n",
      "The NBA continues to evolve, embracing new technologies and expanding globally. The development of the G League, investment in women's basketball through the WNBA, and focus on international markets suggest a bright future.\n",
      "\n",
      "The NBA's history is more than just a collection of games and statistics. It's a story of cultural evolution, technological advancement, and human achievement. From humble beginnings in Northeast America to a global entertainment powerhouse, the NBA's journey reflects broader societal changes while maintaining basketball's essential appeal as a sport that combines athletic excellence with strategic complexity.\n",
      "\n",
      "As we look to the future, the NBA's ability to adapt and innovate while preserving its core appeal suggests that its next chapters will be just as compelling as its past. The league continues to set standards for professional sports organizations worldwide, demonstrating how a sport can be both a competitive endeavor and a vehicle for positive social change.\n",
      "\n",
      "--------------------------- GRADING ---------------------------\n",
      "This exercise has been correctly solved: True\n"
     ]
    }
   ],
   "source": [
    "# Prompt - this is the only field you should change\n",
    "PROMPT = \"You an NBA expert analyst who knows the basketball history not better than anyone else.\\n\\n Your task is to write a short essay on the NBA history.\\n - Essays length should be more than 1000 words.\"\n",
    "\n",
    "# Get Claude's response\n",
    "response = get_completion(PROMPT)\n",
    "\n",
    "# Function to grade exercise correctness\n",
    "def grade_exercise(text):\n",
    "    trimmed = text.strip()\n",
    "    words = len(trimmed.split())\n",
    "    return words >= 800\n",
    "\n",
    "# Print Claude's response and the corresponding grade\n",
    "print(response)\n",
    "print(\"\\n--------------------------- GRADING ---------------------------\")\n",
    "print(\"This exercise has been correctly solved:\", grade_exercise(response))"
   ]
  },
  {
   "cell_type": "markdown",
   "metadata": {},
   "source": [
    "❓ If you want a hint, run the cell below!"
   ]
  },
  {
   "cell_type": "code",
   "execution_count": 16,
   "metadata": {},
   "outputs": [
    {
     "name": "stdout",
     "output_type": "stream",
     "text": [
      "The grading function in this cell is looking for a response that is equal to or greater than 800 words.\n",
      "Because LLMs aren't great at counting words yet, you may have to overshoot your target.\n"
     ]
    }
   ],
   "source": [
    "print(hints.exercise_2_3_hint)"
   ]
  },
  {
   "cell_type": "markdown",
   "metadata": {},
   "source": [
    "### Congrats!\n",
    "\n",
    "If you've solved all exercises up until this point, you're ready to move to the next chapter. Happy prompting!"
   ]
  },
  {
   "cell_type": "markdown",
   "metadata": {},
   "source": [
    "---\n",
    "\n",
    "## Example Playground\n",
    "\n",
    "This is an area for you to experiment freely with the prompt examples shown in this lesson and tweak prompts to see how it may affect Claude's responses."
   ]
  },
  {
   "cell_type": "code",
   "execution_count": null,
   "metadata": {},
   "outputs": [],
   "source": [
    "# Prompt\n",
    "PROMPT = \"Write a haiku about robots.\"\n",
    "\n",
    "# Print Claude's response\n",
    "print(get_completion(PROMPT))"
   ]
  },
  {
   "cell_type": "code",
   "execution_count": null,
   "metadata": {},
   "outputs": [],
   "source": [
    "# Prompt\n",
    "PROMPT = \"Write a haiku about robots. Skip the preamble; go straight into the poem.\"\n",
    "\n",
    "# Print Claude's response\n",
    "print(get_completion(PROMPT))"
   ]
  },
  {
   "cell_type": "code",
   "execution_count": null,
   "metadata": {},
   "outputs": [],
   "source": [
    "# Prompt\n",
    "PROMPT = \"Who is the best basketball player of all time?\"\n",
    "\n",
    "# Print Claude's response\n",
    "print(get_completion(PROMPT))"
   ]
  },
  {
   "cell_type": "code",
   "execution_count": null,
   "metadata": {
    "tags": []
   },
   "outputs": [],
   "source": [
    "# Prompt\n",
    "PROMPT = \"Who is the best basketball player of all time? Yes, there are differing opinions, but if you absolutely had to pick one player, who would it be?\"\n",
    "\n",
    "# Print Claude's response\n",
    "print(get_completion(PROMPT))"
   ]
  }
 ],
 "metadata": {
  "kernelspec": {
   "display_name": "Prompt Engg with Claude 3.x",
   "language": "python",
   "name": "prompt-engineering-with-anthropic-claude-v-3"
  },
  "language_info": {
   "codemirror_mode": {
    "name": "ipython",
    "version": 3
   },
   "file_extension": ".py",
   "mimetype": "text/x-python",
   "name": "python",
   "nbconvert_exporter": "python",
   "pygments_lexer": "ipython3",
   "version": "3.11.9"
  }
 },
 "nbformat": 4,
 "nbformat_minor": 4
}
