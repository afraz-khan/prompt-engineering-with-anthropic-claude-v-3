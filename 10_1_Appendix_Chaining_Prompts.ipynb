{
 "cells": [
  {
   "cell_type": "markdown",
   "metadata": {},
   "source": [
    "# Appendix 10.1: Chaining Prompts\n",
    "\n",
    "- [Lesson](#lesson)\n",
    "- [Example Playground](#example-playground)\n",
    "\n",
    "## Setup\n",
    "\n",
    "Run the following setup cell to load your API key and establish the `get_completion` helper function."
   ]
  },
  {
   "cell_type": "code",
   "execution_count": 1,
   "metadata": {},
   "outputs": [],
   "source": [
    "# Import python's built-in regular expression library\n",
    "import re\n",
    "import boto3\n",
    "from botocore.exceptions import ClientError\n",
    "import json\n",
    "\n",
    "# Import the hints module from the utils package\n",
    "from utils import hints\n",
    "\n",
    "# Retrieve the MODEL_NAME variable from the IPython store\n",
    "#modelId = 'anthropic.claude-3-5-sonnet-20241022-v2:0'\n",
    "modelId = 'anthropic.claude-3-5-haiku-20241022-v1:0'\n",
    "\n",
    "session = boto3.Session() # create a boto3 session to dynamically get and set the region name\n",
    "region = session.region_name\n",
    "\n",
    "bedrock_client = boto3.client(service_name='bedrock-runtime', region_name=region)"
   ]
  },
  {
   "cell_type": "code",
   "execution_count": 2,
   "metadata": {},
   "outputs": [],
   "source": [
    "def get_completion(messages, system_prompt=None):\n",
    "    inference_config = {\n",
    "        \"temperature\": 0.5,\n",
    "        \"maxTokens\": 200\n",
    "    }\n",
    "    converse_api_params = {\n",
    "        \"modelId\": modelId,\n",
    "        \"messages\": messages,\n",
    "        \"inferenceConfig\": inference_config\n",
    "    }\n",
    "    if system_prompt:\n",
    "        converse_api_params[\"system\"] = [{\"text\": system_prompt}]\n",
    "    try:\n",
    "        response = bedrock_client.converse(**converse_api_params)\n",
    "        text_content = response['output']['message']['content'][0]['text']\n",
    "        return text_content\n",
    "\n",
    "    except ClientError as err:\n",
    "        message = err.response['Error']['Message']\n",
    "        print(f\"A client error occured: {message}\")"
   ]
  },
  {
   "cell_type": "markdown",
   "metadata": {},
   "source": [
    "---\n",
    "\n",
    "## Lesson\n",
    "\n",
    "The saying goes, \"Writing is rewriting.\" It turns out, **Claude can often improve the accuracy of its response when asked to do so**!\n",
    "\n",
    "There are many ways to prompt Claude to \"think again\". The ways that feel natural to ask a human to double check their work will also generally work for Claude. (Check out our [prompt chaining documentation](https://docs.anthropic.com/claude/docs/chain-prompts) for further examples of when and how to use prompt chaining.)"
   ]
  },
  {
   "cell_type": "markdown",
   "metadata": {},
   "source": [
    "### Examples\n",
    "\n",
    "In this example, we ask Claude to come up with ten words... but one or more of them isn't a real word."
   ]
  },
  {
   "cell_type": "code",
   "execution_count": 3,
   "metadata": {},
   "outputs": [
    {
     "name": "stdout",
     "output_type": "stream",
     "text": [
      "Here are ten words that end with 'ab':\n",
      "\n",
      "1. cab\n",
      "2. dab\n",
      "3. fab\n",
      "4. gab\n",
      "5. lab\n",
      "6. nab\n",
      "7. sab\n",
      "8. tab\n",
      "9. jab\n",
      "10. grab\n"
     ]
    }
   ],
   "source": [
    "# Initial prompt\n",
    "first_user = \"Name ten words that all end with the exact letters 'ab'.\"\n",
    "\n",
    "# API messages array\n",
    "messages = [\n",
    "    {\"role\": \"user\",\n",
    "     \"content\": [{\"text\": first_user}]}\n",
    "]\n",
    "\n",
    "# Store and print Claude's response\n",
    "first_response = get_completion(messages)\n",
    "print(first_response)"
   ]
  },
  {
   "cell_type": "markdown",
   "metadata": {},
   "source": [
    "**Asking Claude to make its answer more accurate** fixes the error! \n",
    "\n",
    "Below, we've pulled down Claude's incorrect response from above and added another turn to the conversation asking Claude to fix its previous answer."
   ]
  },
  {
   "cell_type": "code",
   "execution_count": 4,
   "metadata": {},
   "outputs": [
    {
     "name": "stdout",
     "output_type": "stream",
     "text": [
      "------------------------ Full messsages array with variable substutions ------------------------\n",
      "[{'role': 'user', 'content': [{'text': \"Name ten words that all end with the exact letters 'ab'.\"}]}, {'role': 'assistant', 'content': [{'text': \"Here are ten words that end with 'ab':\\n\\n1. cab\\n2. dab\\n3. fab\\n4. gab\\n5. lab\\n6. nab\\n7. sab\\n8. tab\\n9. jab\\n10. grab\"}]}, {'role': 'user', 'content': [{'text': \"Please find replacements for all 'words' that are not real words.\"}]}]\n",
      "\n",
      "------------------------------------- Claude's response -------------------------------------\n",
      "Here's a revised list with only real words:\n",
      "\n",
      "1. cab\n",
      "2. dab\n",
      "3. fab (informal, short for \"fabulous\")\n",
      "4. lab\n",
      "5. nab\n",
      "6. tab\n",
      "7. jab\n",
      "8. grab\n",
      "9. scab\n",
      "10. stab\n"
     ]
    }
   ],
   "source": [
    "second_user = \"Please find replacements for all 'words' that are not real words.\"\n",
    "\n",
    "# API messages array\n",
    "messages = [\n",
    "    {\n",
    "        \"role\": \"user\",\n",
    "        \"content\": [{\"text\": first_user}]\n",
    "    },\n",
    "    {\n",
    "        \"role\": \"assistant\",\n",
    "         \"content\": [{\"text\": first_response}]\n",
    "    },\n",
    "    {\n",
    "        \"role\": \"user\",\n",
    "         \"content\": [{\"text\": second_user}]\n",
    "    },\n",
    "\n",
    "]\n",
    "\n",
    "# Print Claude's response\n",
    "print(\"------------------------ Full messsages array with variable substutions ------------------------\")\n",
    "print(messages)\n",
    "print(\"\\n------------------------------------- Claude's response -------------------------------------\")\n",
    "print(get_completion(messages))"
   ]
  },
  {
   "cell_type": "markdown",
   "metadata": {},
   "source": [
    "But is Claude revising its answer just because we told it to? What if we start off with a correct answer already? Will Claude lose its confidence? Here, we've placed a correct response in the place of `first_response` and asked it to double check again."
   ]
  },
  {
   "cell_type": "code",
   "execution_count": 7,
   "metadata": {},
   "outputs": [
    {
     "name": "stdout",
     "output_type": "stream",
     "text": [
      "------------------------ Full messsages array with variable substutions ------------------------\n",
      "[{'role': 'user', 'content': [{'text': \"Name ten words that all end with the exact letters 'ab'.\"}]}, {'role': 'assistant', 'content': [{'text': \"Here are 10 words that end with the letters 'ab':\\n\\n1. Cab\\n2. Dab\\n3. Grab\\n4. Gab\\n5. Jab\\n6. Lab\\n7. Nab\\n8. Slab\\n9. Tab\\n10. Blab\"}]}, {'role': 'user', 'content': [{'text': \"Please find replacements for all 'words' that are not real words.\"}]}]\n",
      "\n",
      "------------------------------------- Claude's response -------------------------------------\n",
      "Here's a revised list of 10 words that end with 'ab', all of which are real words:\n",
      "\n",
      "1. Cab\n",
      "2. Dab\n",
      "3. Grab\n",
      "4. Gab (a real word meaning to talk idly)\n",
      "5. Jab\n",
      "6. Lab\n",
      "7. Nab\n",
      "8. Slab\n",
      "9. Tab\n",
      "10. Stab\n",
      "\n",
      "All of these are legitimate words in standard English dictionaries.\n"
     ]
    }
   ],
   "source": [
    "first_user = \"Name ten words that all end with the exact letters 'ab'.\"\n",
    "\n",
    "first_response = \"\"\"Here are 10 words that end with the letters 'ab':\n",
    "\n",
    "1. Cab\n",
    "2. Dab\n",
    "3. Grab\n",
    "4. Gab\n",
    "5. Jab\n",
    "6. Lab\n",
    "7. Nab\n",
    "8. Slab\n",
    "9. Tab\n",
    "10. Blab\"\"\"\n",
    "\n",
    "second_user = \"Please find replacements for all 'words' that are not real words.\"\n",
    "\n",
    "# API messages array\n",
    "messages = [\n",
    "    {\n",
    "        \"role\": \"user\",\n",
    "        \"content\": [{\"text\": first_user}]\n",
    "    },\n",
    "    {\n",
    "        \"role\": \"assistant\",\n",
    "         \"content\": [{\"text\": first_response}]\n",
    "    },\n",
    "    {\n",
    "        \"role\": \"user\",\n",
    "         \"content\": [{\"text\": second_user}]\n",
    "    },\n",
    "\n",
    "]\n",
    "\n",
    "# Print Claude's response\n",
    "print(\"------------------------ Full messsages array with variable substutions ------------------------\")\n",
    "print(messages)\n",
    "print(\"\\n------------------------------------- Claude's response -------------------------------------\")\n",
    "print(get_completion(messages))"
   ]
  },
  {
   "cell_type": "markdown",
   "metadata": {},
   "source": [
    "You may notice that if you generate a respnse from the above block a few times, Claude leaves the words as is most of the time, but still occasionally changes the words even though they're all already correct. What can we do to mitigate this? Per Chapter 8, we can give Claude an out! Let's try this one more time."
   ]
  },
  {
   "cell_type": "code",
   "execution_count": 9,
   "metadata": {},
   "outputs": [
    {
     "name": "stdout",
     "output_type": "stream",
     "text": [
      "------------------------ Full messsages array with variable substutions ------------------------\n",
      "[{'role': 'user', 'content': [{'text': \"Name ten words that all end with the exact letters 'ab'.\"}]}, {'role': 'assistant', 'content': [{'text': \"Here are 10 words that end with the letters 'ab':\\n\\n1. Cab\\n2. Dab\\n3. Grab\\n4. Gab\\n5. Jab\\n6. Lab\\n7. Nab\\n8. Slab\\n9. Tab\\n10. Blab\"}]}, {'role': 'user', 'content': [{'text': \"Please find replacements for all 'words' that are not real words. If all the words are real words, return the original list.\"}]}]\n",
      "\n",
      "------------------------------------- Claude's response -------------------------------------\n",
      "After reviewing the list, all of these are real words:\n",
      "\n",
      "1. Cab\n",
      "2. Dab\n",
      "3. Grab\n",
      "4. Gab\n",
      "5. Jab\n",
      "6. Lab\n",
      "7. Nab\n",
      "8. Slab\n",
      "9. Tab\n",
      "10. Blab\n",
      "\n",
      "These are all legitimate words in standard English dictionaries.\n"
     ]
    }
   ],
   "source": [
    "first_user = \"Name ten words that all end with the exact letters 'ab'.\"\n",
    "\n",
    "first_response = \"\"\"Here are 10 words that end with the letters 'ab':\n",
    "\n",
    "1. Cab\n",
    "2. Dab\n",
    "3. Grab\n",
    "4. Gab\n",
    "5. Jab\n",
    "6. Lab\n",
    "7. Nab\n",
    "8. Slab\n",
    "9. Tab\n",
    "10. Blab\"\"\"\n",
    "\n",
    "second_user = \"Please find replacements for all 'words' that are not real words. If all the words are real words, return the original list.\"\n",
    "\n",
    "# API messages array\n",
    "messages = [\n",
    "    {\n",
    "        \"role\": \"user\",\n",
    "        \"content\": [{\"text\": first_user}]\n",
    "    },\n",
    "    {\n",
    "        \"role\": \"assistant\",\n",
    "         \"content\": [{\"text\": first_response}]\n",
    "    },\n",
    "    {\n",
    "        \"role\": \"user\",\n",
    "         \"content\": [{\"text\": second_user}]\n",
    "    },\n",
    "\n",
    "]\n",
    "\n",
    "# Print Claude's response\n",
    "print(\"------------------------ Full messsages array with variable substutions ------------------------\")\n",
    "print(messages)\n",
    "print(\"\\n------------------------------------- Claude's response -------------------------------------\")\n",
    "print(get_completion(messages))"
   ]
  },
  {
   "cell_type": "markdown",
   "metadata": {},
   "source": [
    "Try generating responses from the above code a few times to see that Claude is much better at sticking to its guns now.\n",
    "\n",
    "You can also use prompt chaining to **ask Claude to make its responses better**. Below, we asked Claude to first write a story, and then improve the story it wrote. Your personal tastes may vary, but many might agree that Claude's second version is better.\n",
    "\n",
    "First, let's generate Claude's first version of the story."
   ]
  },
  {
   "cell_type": "code",
   "execution_count": 10,
   "metadata": {},
   "outputs": [
    {
     "name": "stdout",
     "output_type": "stream",
     "text": [
      "Emma loved the feeling of wind rushing past her face as she sprinted down the country road, her feet pounding rhythmically against the dusty ground. Every morning before sunrise, she would lace up her worn running shoes and set out to explore the quiet landscape, finding freedom in the solitude of her early morning runs. As the sun began to peek over the distant hills, Emma smiled, knowing that these moments of pure motion and peace were what made her truly happy.\n"
     ]
    }
   ],
   "source": [
    "# Initial prompt\n",
    "first_user = \"Write a three-sentence short story about a girl who likes to run.\"\n",
    "\n",
    "# API messages array\n",
    "messages = [\n",
    "    {\n",
    "        \"role\": \"user\",\n",
    "         \"content\": [{\"text\": first_user}]\n",
    "    }\n",
    "]\n",
    "\n",
    "# Store and print Claude's response\n",
    "first_response = get_completion(messages)\n",
    "print(first_response)"
   ]
  },
  {
   "cell_type": "markdown",
   "metadata": {},
   "source": [
    "Now let's have Claude improve on its first draft."
   ]
  },
  {
   "cell_type": "code",
   "execution_count": 11,
   "metadata": {},
   "outputs": [
    {
     "name": "stdout",
     "output_type": "stream",
     "text": [
      "------------------------ Full messsages array with variable substutions ------------------------\n",
      "[{'role': 'user', 'content': [{'text': 'Write a three-sentence short story about a girl who likes to run.'}]}, {'role': 'assistant', 'content': [{'text': 'Emma loved the feeling of wind rushing past her face as she sprinted down the country road, her feet pounding rhythmically against the dusty ground. Every morning before sunrise, she would lace up her worn running shoes and set out to explore the quiet landscape, finding freedom in the solitude of her early morning runs. As the sun began to peek over the distant hills, Emma smiled, knowing that these moments of pure motion and peace were what made her truly happy.'}]}, {'role': 'user', 'content': [{'text': 'Make the story better.'}]}]\n",
      "\n",
      "------------------------------------- Claude's response -------------------------------------\n",
      "Emma's legs burned with a familiar, welcome ache as she raced along the gravel road, her breath forming small clouds in the crisp dawn air, each stride a defiant declaration against the limitations others had tried to place on her since her childhood asthma diagnosis. Years of careful training and unwavering determination had transformed her from a fragile child who could barely walk up a flight of stairs into a lean, fierce runner who now devoured miles like they were mere suggestions, her body a finely tuned machine of muscle and will. As the first golden rays of sunlight crested the rolling hills, painting the landscape in warm amber hues, Emma felt not just the physical triumph of her run, but a deeper, more profound sense of liberation—she was no longer the girl who couldn't, but the woman who absolutely would.\n"
     ]
    }
   ],
   "source": [
    "second_user = \"Make the story better.\"\n",
    "\n",
    "# API messages array\n",
    "messages = [\n",
    "    {\n",
    "        \"role\": \"user\",\n",
    "        \"content\": [{\"text\": first_user}]\n",
    "    },\n",
    "    {\n",
    "        \"role\": \"assistant\",\n",
    "         \"content\": [{\"text\": first_response}]\n",
    "    },\n",
    "    {\n",
    "        \"role\": \"user\",\n",
    "         \"content\": [{\"text\": second_user}]\n",
    "    },\n",
    "\n",
    "]\n",
    "\n",
    "# Print Claude's response\n",
    "print(\"------------------------ Full messsages array with variable substutions ------------------------\")\n",
    "print(messages)\n",
    "print(\"\\n------------------------------------- Claude's response -------------------------------------\")\n",
    "print(get_completion(messages))"
   ]
  },
  {
   "cell_type": "markdown",
   "metadata": {},
   "source": [
    "This form of substitution is very powerful. We've been using substitution placeholders to pass in lists, words, Claude's former responses, and so on. You can also **use substitution to do what we call \"function calling,\" which is asking Claude to perform some function, and then taking the results of that function and asking Claude to do even more afterward with the results**. It works like any other substitution. More on this in the next appendix.\n",
    "\n",
    "Below is one more example of taking the results of one call to Claude and plugging it into another, longer call. Let's start with the first prompt (which includes prefilling Claude's response this time)."
   ]
  },
  {
   "cell_type": "code",
   "execution_count": 12,
   "metadata": {},
   "outputs": [
    {
     "name": "stdout",
     "output_type": "stream",
     "text": [
      "------------------------ Full messsages array with variable substutions ------------------------\n",
      "[{'role': 'user', 'content': [{'text': 'Find all names from the below text:\\n\\n\"Hey, Jesse. It\\'s me, Erin. I\\'m calling about the party that Joey is throwing tomorrow. Keisha said she would come and I think Mel will be there too.'}]}, {'role': 'assistant', 'content': [{'text': '<names>'}]}]\n",
      "\n",
      "------------------------------------- Claude's response -------------------------------------\n",
      "\n",
      "- Jesse\n",
      "- Erin\n",
      "- Joey\n",
      "- Keisha\n",
      "- Mel\n",
      "</names>\n"
     ]
    }
   ],
   "source": [
    "first_user = \"\"\"Find all names from the below text:\n",
    "\n",
    "\"Hey, Jesse. It's me, Erin. I'm calling about the party that Joey is throwing tomorrow. Keisha said she would come and I think Mel will be there too.\"\"\"\n",
    "\n",
    "prefill = \"<names>\"\n",
    "\n",
    "# API messages array\n",
    "messages = [\n",
    "    {\n",
    "        \"role\": \"user\",\n",
    "        \"content\": [{\"text\": first_user}]\n",
    "    },\n",
    "    {\n",
    "        \"role\": \"assistant\",\n",
    "         \"content\": [{\"text\": prefill}]\n",
    "    }\n",
    "]\n",
    "\n",
    "# Store and print Claude's response\n",
    "first_response = get_completion(messages)\n",
    "print(\"------------------------ Full messsages array with variable substutions ------------------------\")\n",
    "print(messages)\n",
    "print(\"\\n------------------------------------- Claude's response -------------------------------------\")\n",
    "print(first_response)"
   ]
  },
  {
   "cell_type": "markdown",
   "metadata": {},
   "source": [
    "Let's pass this list of names into another prompt."
   ]
  },
  {
   "cell_type": "code",
   "execution_count": 13,
   "metadata": {},
   "outputs": [
    {
     "name": "stdout",
     "output_type": "stream",
     "text": [
      "------------------------ Full messsages array with variable substutions ------------------------\n",
      "[{'role': 'user', 'content': [{'text': 'Find all names from the below text:\\n\\n\"Hey, Jesse. It\\'s me, Erin. I\\'m calling about the party that Joey is throwing tomorrow. Keisha said she would come and I think Mel will be there too.'}]}, {'role': 'assistant', 'content': [{'text': '<names>\\n\\n- Jesse\\n- Erin\\n- Joey\\n- Keisha\\n- Mel\\n</names>'}]}, {'role': 'user', 'content': [{'text': 'Alphabetize the list.'}]}]\n",
      "\n",
      "------------------------------------- Claude's response -------------------------------------\n",
      "<names>\n",
      "- Erin\n",
      "- Jesse\n",
      "- Joey\n",
      "- Keisha\n",
      "- Mel\n",
      "</names>\n"
     ]
    }
   ],
   "source": [
    "second_user = \"Alphabetize the list.\"\n",
    "\n",
    "# API messages array\n",
    "messages = [\n",
    "    {\n",
    "        \"role\": \"user\",\n",
    "        \"content\": [{\"text\": first_user}]\n",
    "    },\n",
    "    {\n",
    "        \"role\": \"assistant\",\n",
    "         \"content\": [{\"text\": prefill + \"\\n\" + first_response}]\n",
    "    },\n",
    "    {\n",
    "        \"role\": \"user\",\n",
    "         \"content\": [{\"text\": second_user}]\n",
    "    },\n",
    "\n",
    "]\n",
    "\n",
    "# Print Claude's response\n",
    "print(\"------------------------ Full messsages array with variable substutions ------------------------\")\n",
    "print(messages)\n",
    "print(\"\\n------------------------------------- Claude's response -------------------------------------\")\n",
    "print(get_completion(messages))"
   ]
  },
  {
   "cell_type": "markdown",
   "metadata": {},
   "source": [
    "Now that you've learned about prompt chaining, head over to Appendix 10.2 to learn how to implement function calling using prompt chaining."
   ]
  },
  {
   "cell_type": "markdown",
   "metadata": {},
   "source": [
    "---\n",
    "\n",
    "## Example Playground\n",
    "\n",
    "This is an area for you to experiment freely with the prompt examples shown in this lesson and tweak prompts to see how it may affect Claude's responses."
   ]
  },
  {
   "cell_type": "code",
   "execution_count": null,
   "metadata": {},
   "outputs": [],
   "source": [
    "# Initial prompt\n",
    "first_user = \"Name ten words that all end with the exact letters 'ab'.\"\n",
    "\n",
    "# API messages array\n",
    "messages = [\n",
    "    {\"role\": \"user\",\n",
    "     \"content\": [{\"text\": first_user}]}\n",
    "]\n",
    "\n",
    "# Store and print Claude's response\n",
    "first_response = get_completion(messages)\n",
    "print(first_response)"
   ]
  },
  {
   "cell_type": "code",
   "execution_count": null,
   "metadata": {},
   "outputs": [],
   "source": [
    "second_user = \"Please find replacements for all 'words' that are not real words.\"\n",
    "\n",
    "# API messages array\n",
    "messages = [\n",
    "    {\n",
    "        \"role\": \"user\",\n",
    "        \"content\": [{\"text\": first_user}]\n",
    "    },\n",
    "    {\n",
    "        \"role\": \"assistant\",\n",
    "         \"content\": [{\"text\": first_response}]\n",
    "    },\n",
    "    {\n",
    "        \"role\": \"user\",\n",
    "         \"content\": [{\"text\": second_user}]\n",
    "    },\n",
    "\n",
    "]\n",
    "\n",
    "# Print Claude's response\n",
    "print(\"------------------------ Full messsages array with variable substutions ------------------------\")\n",
    "print(messages)\n",
    "print(\"\\n------------------------------------- Claude's response -------------------------------------\")\n",
    "print(get_completion(messages))"
   ]
  },
  {
   "cell_type": "code",
   "execution_count": null,
   "metadata": {},
   "outputs": [],
   "source": [
    "first_user = \"Name ten words that all end with the exact letters 'ab'.\"\n",
    "\n",
    "first_response = \"\"\"Here are 10 words that end with the letters 'ab':\n",
    "\n",
    "1. Cab\n",
    "2. Dab\n",
    "3. Grab\n",
    "4. Gab\n",
    "5. Jab\n",
    "6. Lab\n",
    "7. Nab\n",
    "8. Slab\n",
    "9. Tab\n",
    "10. Blab\"\"\"\n",
    "\n",
    "second_user = \"Please find replacements for all 'words' that are not real words.\"\n",
    "\n",
    "# API messages array\n",
    "messages = [\n",
    "    {\n",
    "        \"role\": \"user\",\n",
    "        \"content\": [{\"text\": first_user}]\n",
    "    },\n",
    "    {\n",
    "        \"role\": \"assistant\",\n",
    "         \"content\": [{\"text\": first_response}]\n",
    "    },\n",
    "    {\n",
    "        \"role\": \"user\",\n",
    "         \"content\": [{\"text\": second_user}]\n",
    "    },\n",
    "\n",
    "]\n",
    "\n",
    "# Print Claude's response\n",
    "print(\"------------------------ Full messsages array with variable substutions ------------------------\")\n",
    "print(messages)\n",
    "print(\"\\n------------------------------------- Claude's response -------------------------------------\")\n",
    "print(get_completion(messages))"
   ]
  },
  {
   "cell_type": "code",
   "execution_count": null,
   "metadata": {},
   "outputs": [],
   "source": [
    "first_user = \"Name ten words that all end with the exact letters 'ab'.\"\n",
    "\n",
    "first_response = \"\"\"Here are 10 words that end with the letters 'ab':\n",
    "\n",
    "1. Cab\n",
    "2. Dab\n",
    "3. Grab\n",
    "4. Gab\n",
    "5. Jab\n",
    "6. Lab\n",
    "7. Nab\n",
    "8. Slab\n",
    "9. Tab\n",
    "10. Blab\"\"\"\n",
    "\n",
    "second_user = \"Please find replacements for all 'words' that are not real words. If all the words are real words, return the original list.\"\n",
    "\n",
    "# API messages array\n",
    "messages = [\n",
    "    {\n",
    "        \"role\": \"user\",\n",
    "        \"content\": [{\"text\": first_user}]\n",
    "    },\n",
    "    {\n",
    "        \"role\": \"assistant\",\n",
    "         \"content\": [{\"text\": first_response}]\n",
    "    },\n",
    "    {\n",
    "        \"role\": \"user\",\n",
    "         \"content\": [{\"text\": second_user}]\n",
    "    },\n",
    "\n",
    "]\n",
    "\n",
    "# Print Claude's response\n",
    "print(\"------------------------ Full messsages array with variable substutions ------------------------\")\n",
    "print(messages)\n",
    "print(\"\\n------------------------------------- Claude's response -------------------------------------\")\n",
    "print(get_completion(messages))"
   ]
  },
  {
   "cell_type": "code",
   "execution_count": null,
   "metadata": {},
   "outputs": [],
   "source": [
    "# Initial prompt\n",
    "first_user = \"Write a three-sentence short story about a girl who likes to run.\"\n",
    "\n",
    "# API messages array\n",
    "messages = [\n",
    "    {\n",
    "        \"role\": \"user\",\n",
    "         \"content\": [{\"text\": first_user}]\n",
    "    }\n",
    "]\n",
    "\n",
    "# Store and print Claude's response\n",
    "first_response = get_completion(messages)\n",
    "print(first_response)"
   ]
  },
  {
   "cell_type": "code",
   "execution_count": null,
   "metadata": {},
   "outputs": [],
   "source": [
    "second_user = \"Make the story better.\"\n",
    "\n",
    "# API messages array\n",
    "messages = [\n",
    "    {\n",
    "        \"role\": \"user\",\n",
    "        \"content\": [{\"text\": first_user}]\n",
    "    },\n",
    "    {\n",
    "        \"role\": \"assistant\",\n",
    "         \"content\": [{\"text\": first_response}]\n",
    "    },\n",
    "    {\n",
    "        \"role\": \"user\",\n",
    "         \"content\": [{\"text\": second_user}]\n",
    "    },\n",
    "\n",
    "]\n",
    "\n",
    "# Print Claude's response\n",
    "print(\"------------------------ Full messsages array with variable substutions ------------------------\")\n",
    "print(messages)\n",
    "print(\"\\n------------------------------------- Claude's response -------------------------------------\")\n",
    "print(get_completion(messages))"
   ]
  },
  {
   "cell_type": "code",
   "execution_count": null,
   "metadata": {},
   "outputs": [],
   "source": [
    "first_user = \"\"\"Find all names from the below text:\n",
    "\n",
    "\"Hey, Jesse. It's me, Erin. I'm calling about the party that Joey is throwing tomorrow. Keisha said she would come and I think Mel will be there too.\"\"\"\n",
    "\n",
    "prefill = \"<names>\"\n",
    "\n",
    "# API messages array\n",
    "messages = [\n",
    "    {\n",
    "        \"role\": \"user\",\n",
    "        \"content\": [{\"text\": first_user}]\n",
    "    },\n",
    "    {\n",
    "        \"role\": \"assistant\",\n",
    "         \"content\": [{\"text\": prefill}]\n",
    "    }\n",
    "]\n",
    "\n",
    "# Store and print Claude's response\n",
    "first_response = get_completion(messages)\n",
    "print(\"------------------------ Full messsages array with variable substutions ------------------------\")\n",
    "print(messages)\n",
    "print(\"\\n------------------------------------- Claude's response -------------------------------------\")\n",
    "print(first_response)"
   ]
  },
  {
   "cell_type": "code",
   "execution_count": null,
   "metadata": {
    "tags": []
   },
   "outputs": [],
   "source": [
    "second_user = \"Alphabetize the list.\"\n",
    "\n",
    "# API messages array\n",
    "messages = [\n",
    "    {\n",
    "        \"role\": \"user\",\n",
    "        \"content\": [{\"text\": first_user}]\n",
    "    },\n",
    "    {\n",
    "        \"role\": \"assistant\",\n",
    "         \"content\": [{\"text\": prefill + \"\\n\" + first_response}]\n",
    "    },\n",
    "    {\n",
    "        \"role\": \"user\",\n",
    "         \"content\": [{\"text\": second_user}]\n",
    "    },\n",
    "\n",
    "]\n",
    "\n",
    "# Print Claude's response\n",
    "print(\"------------------------ Full messsages array with variable substutions ------------------------\")\n",
    "print(messages)\n",
    "print(\"\\n------------------------------------- Claude's response -------------------------------------\")\n",
    "print(get_completion(messages))"
   ]
  }
 ],
 "metadata": {
  "kernelspec": {
   "display_name": "Prompt Engg with Claude 3.x",
   "language": "python",
   "name": "prompt-engineering-with-anthropic-claude-v-3"
  },
  "language_info": {
   "codemirror_mode": {
    "name": "ipython",
    "version": 3
   },
   "file_extension": ".py",
   "mimetype": "text/x-python",
   "name": "python",
   "nbconvert_exporter": "python",
   "pygments_lexer": "ipython3",
   "version": "3.11.9"
  }
 },
 "nbformat": 4,
 "nbformat_minor": 4
}
